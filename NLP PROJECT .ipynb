{
 "cells": [
  {
   "cell_type": "markdown",
   "id": "d5987517",
   "metadata": {},
   "source": [
    "# Spam SMS Classification"
   ]
  },
  {
   "cell_type": "code",
   "execution_count": 1,
   "id": "3595788f",
   "metadata": {},
   "outputs": [
    {
     "name": "stderr",
     "output_type": "stream",
     "text": [
      "[nltk_data] Downloading package stopwords to\n",
      "[nltk_data]     C:\\Users\\arpit\\AppData\\Roaming\\nltk_data...\n",
      "[nltk_data]   Unzipping corpora\\stopwords.zip.\n",
      "[nltk_data] Downloading package wordnet to\n",
      "[nltk_data]     C:\\Users\\arpit\\AppData\\Roaming\\nltk_data...\n",
      "[nltk_data]   Package wordnet is already up-to-date!\n"
     ]
    },
    {
     "data": {
      "text/plain": [
       "True"
      ]
     },
     "execution_count": 1,
     "metadata": {},
     "output_type": "execute_result"
    }
   ],
   "source": [
    "#Loading the libraries\n",
    "import pandas as pd\n",
    "import numpy as np\n",
    "import nltk\n",
    "nltk.download('stopwords')\n",
    "nltk.download('wordnet')"
   ]
  },
  {
   "cell_type": "code",
   "execution_count": 2,
   "id": "4fe9faa6",
   "metadata": {},
   "outputs": [],
   "source": [
    "messages = pd.read_csv('SMSSpamCollection (1)',sep='\\t',names = ['Label','Message'])"
   ]
  },
  {
   "cell_type": "code",
   "execution_count": 3,
   "id": "271ca35a",
   "metadata": {
    "scrolled": true
   },
   "outputs": [
    {
     "data": {
      "text/html": [
       "<div>\n",
       "<style scoped>\n",
       "    .dataframe tbody tr th:only-of-type {\n",
       "        vertical-align: middle;\n",
       "    }\n",
       "\n",
       "    .dataframe tbody tr th {\n",
       "        vertical-align: top;\n",
       "    }\n",
       "\n",
       "    .dataframe thead th {\n",
       "        text-align: right;\n",
       "    }\n",
       "</style>\n",
       "<table border=\"1\" class=\"dataframe\">\n",
       "  <thead>\n",
       "    <tr style=\"text-align: right;\">\n",
       "      <th></th>\n",
       "      <th>Label</th>\n",
       "      <th>Message</th>\n",
       "    </tr>\n",
       "  </thead>\n",
       "  <tbody>\n",
       "    <tr>\n",
       "      <th>0</th>\n",
       "      <td>ham</td>\n",
       "      <td>Go until jurong point, crazy.. Available only ...</td>\n",
       "    </tr>\n",
       "    <tr>\n",
       "      <th>1</th>\n",
       "      <td>ham</td>\n",
       "      <td>Ok lar... Joking wif u oni...</td>\n",
       "    </tr>\n",
       "    <tr>\n",
       "      <th>2</th>\n",
       "      <td>spam</td>\n",
       "      <td>Free entry in 2 a wkly comp to win FA Cup fina...</td>\n",
       "    </tr>\n",
       "    <tr>\n",
       "      <th>3</th>\n",
       "      <td>ham</td>\n",
       "      <td>U dun say so early hor... U c already then say...</td>\n",
       "    </tr>\n",
       "    <tr>\n",
       "      <th>4</th>\n",
       "      <td>ham</td>\n",
       "      <td>Nah I don't think he goes to usf, he lives aro...</td>\n",
       "    </tr>\n",
       "  </tbody>\n",
       "</table>\n",
       "</div>"
      ],
      "text/plain": [
       "  Label                                            Message\n",
       "0   ham  Go until jurong point, crazy.. Available only ...\n",
       "1   ham                      Ok lar... Joking wif u oni...\n",
       "2  spam  Free entry in 2 a wkly comp to win FA Cup fina...\n",
       "3   ham  U dun say so early hor... U c already then say...\n",
       "4   ham  Nah I don't think he goes to usf, he lives aro..."
      ]
     },
     "execution_count": 3,
     "metadata": {},
     "output_type": "execute_result"
    }
   ],
   "source": [
    "messages.head()"
   ]
  },
  {
   "cell_type": "code",
   "execution_count": 4,
   "id": "7ec58493",
   "metadata": {
    "scrolled": true
   },
   "outputs": [
    {
     "data": {
      "text/html": [
       "<div>\n",
       "<style scoped>\n",
       "    .dataframe tbody tr th:only-of-type {\n",
       "        vertical-align: middle;\n",
       "    }\n",
       "\n",
       "    .dataframe tbody tr th {\n",
       "        vertical-align: top;\n",
       "    }\n",
       "\n",
       "    .dataframe thead th {\n",
       "        text-align: right;\n",
       "    }\n",
       "</style>\n",
       "<table border=\"1\" class=\"dataframe\">\n",
       "  <thead>\n",
       "    <tr style=\"text-align: right;\">\n",
       "      <th></th>\n",
       "      <th>Label</th>\n",
       "      <th>Message</th>\n",
       "    </tr>\n",
       "  </thead>\n",
       "  <tbody>\n",
       "    <tr>\n",
       "      <th>5570</th>\n",
       "      <td>ham</td>\n",
       "      <td>The guy did some bitching but I acted like i'd...</td>\n",
       "    </tr>\n",
       "    <tr>\n",
       "      <th>5571</th>\n",
       "      <td>ham</td>\n",
       "      <td>Rofl. Its true to its name</td>\n",
       "    </tr>\n",
       "    <tr>\n",
       "      <th>5572</th>\n",
       "      <td>spam</td>\n",
       "      <td>Share your Mobile OTP for Free Tickets</td>\n",
       "    </tr>\n",
       "    <tr>\n",
       "      <th>5573</th>\n",
       "      <td>spam</td>\n",
       "      <td>Share your Mobile OTP for Free Tickets</td>\n",
       "    </tr>\n",
       "    <tr>\n",
       "      <th>5574</th>\n",
       "      <td>spam</td>\n",
       "      <td>Share your Mobile OTP for Free Tickets</td>\n",
       "    </tr>\n",
       "  </tbody>\n",
       "</table>\n",
       "</div>"
      ],
      "text/plain": [
       "     Label                                            Message\n",
       "5570   ham  The guy did some bitching but I acted like i'd...\n",
       "5571   ham                         Rofl. Its true to its name\n",
       "5572  spam            Share your Mobile OTP for Free Tickets \n",
       "5573  spam            Share your Mobile OTP for Free Tickets \n",
       "5574  spam            Share your Mobile OTP for Free Tickets "
      ]
     },
     "execution_count": 4,
     "metadata": {},
     "output_type": "execute_result"
    }
   ],
   "source": [
    "messages.tail()"
   ]
  },
  {
   "cell_type": "code",
   "execution_count": 5,
   "id": "245dd7f6",
   "metadata": {},
   "outputs": [
    {
     "name": "stdout",
     "output_type": "stream",
     "text": [
      "<class 'pandas.core.frame.DataFrame'>\n",
      "RangeIndex: 5575 entries, 0 to 5574\n",
      "Data columns (total 2 columns):\n",
      " #   Column   Non-Null Count  Dtype \n",
      "---  ------   --------------  ----- \n",
      " 0   Label    5575 non-null   object\n",
      " 1   Message  5575 non-null   object\n",
      "dtypes: object(2)\n",
      "memory usage: 87.2+ KB\n"
     ]
    }
   ],
   "source": [
    "#Info about the data\n",
    "messages.info()"
   ]
  },
  {
   "cell_type": "code",
   "execution_count": 6,
   "id": "2e6bee0a",
   "metadata": {},
   "outputs": [
    {
     "data": {
      "text/plain": [
       "Label      0\n",
       "Message    0\n",
       "dtype: int64"
      ]
     },
     "execution_count": 6,
     "metadata": {},
     "output_type": "execute_result"
    }
   ],
   "source": [
    "# Count the number of missing values in each column of the 'messages' DataFrame\n",
    "messages.isnull().sum()"
   ]
  },
  {
   "cell_type": "code",
   "execution_count": 7,
   "id": "cd5d05cc",
   "metadata": {},
   "outputs": [
    {
     "data": {
      "text/plain": [
       "(5575, 2)"
      ]
     },
     "execution_count": 7,
     "metadata": {},
     "output_type": "execute_result"
    }
   ],
   "source": [
    "# Get the shape of the DataFrame\n",
    "messages.shape"
   ]
  },
  {
   "cell_type": "code",
   "execution_count": 8,
   "id": "6a7c348d",
   "metadata": {},
   "outputs": [
    {
     "data": {
      "text/plain": [
       "Label\n",
       "ham     4825\n",
       "spam     760\n",
       "Name: count, dtype: int64"
      ]
     },
     "execution_count": 8,
     "metadata": {},
     "output_type": "execute_result"
    }
   ],
   "source": [
    "#Target variables counts\n",
    "messages['Label'].value_counts()"
   ]
  },
  {
   "cell_type": "code",
   "execution_count": 9,
   "id": "f78d3fa9",
   "metadata": {},
   "outputs": [],
   "source": [
    "#Calculating length of message\n",
    "mes_len=0\n",
    "length=[]\n",
    "for i in range(len(messages)):\n",
    "    length.append(len(messages['Message'][i]))"
   ]
  },
  {
   "cell_type": "code",
   "execution_count": 10,
   "id": "71371f36",
   "metadata": {},
   "outputs": [],
   "source": [
    "#Adding Length column to the dataframe\n",
    "messages['Length']=length"
   ]
  },
  {
   "cell_type": "code",
   "execution_count": 11,
   "id": "30f119c2",
   "metadata": {
    "scrolled": false
   },
   "outputs": [
    {
     "data": {
      "text/html": [
       "<div>\n",
       "<style scoped>\n",
       "    .dataframe tbody tr th:only-of-type {\n",
       "        vertical-align: middle;\n",
       "    }\n",
       "\n",
       "    .dataframe tbody tr th {\n",
       "        vertical-align: top;\n",
       "    }\n",
       "\n",
       "    .dataframe thead th {\n",
       "        text-align: right;\n",
       "    }\n",
       "</style>\n",
       "<table border=\"1\" class=\"dataframe\">\n",
       "  <thead>\n",
       "    <tr style=\"text-align: right;\">\n",
       "      <th></th>\n",
       "      <th>Label</th>\n",
       "      <th>Message</th>\n",
       "      <th>Length</th>\n",
       "    </tr>\n",
       "  </thead>\n",
       "  <tbody>\n",
       "    <tr>\n",
       "      <th>0</th>\n",
       "      <td>ham</td>\n",
       "      <td>Go until jurong point, crazy.. Available only ...</td>\n",
       "      <td>111</td>\n",
       "    </tr>\n",
       "    <tr>\n",
       "      <th>1</th>\n",
       "      <td>ham</td>\n",
       "      <td>Ok lar... Joking wif u oni...</td>\n",
       "      <td>29</td>\n",
       "    </tr>\n",
       "    <tr>\n",
       "      <th>2</th>\n",
       "      <td>spam</td>\n",
       "      <td>Free entry in 2 a wkly comp to win FA Cup fina...</td>\n",
       "      <td>155</td>\n",
       "    </tr>\n",
       "    <tr>\n",
       "      <th>3</th>\n",
       "      <td>ham</td>\n",
       "      <td>U dun say so early hor... U c already then say...</td>\n",
       "      <td>49</td>\n",
       "    </tr>\n",
       "    <tr>\n",
       "      <th>4</th>\n",
       "      <td>ham</td>\n",
       "      <td>Nah I don't think he goes to usf, he lives aro...</td>\n",
       "      <td>61</td>\n",
       "    </tr>\n",
       "  </tbody>\n",
       "</table>\n",
       "</div>"
      ],
      "text/plain": [
       "  Label                                            Message  Length\n",
       "0   ham  Go until jurong point, crazy.. Available only ...     111\n",
       "1   ham                      Ok lar... Joking wif u oni...      29\n",
       "2  spam  Free entry in 2 a wkly comp to win FA Cup fina...     155\n",
       "3   ham  U dun say so early hor... U c already then say...      49\n",
       "4   ham  Nah I don't think he goes to usf, he lives aro...      61"
      ]
     },
     "execution_count": 11,
     "metadata": {},
     "output_type": "execute_result"
    }
   ],
   "source": [
    "messages.head()"
   ]
  },
  {
   "cell_type": "code",
   "execution_count": 12,
   "id": "5ef8fdfb",
   "metadata": {},
   "outputs": [],
   "source": [
    "import string\n",
    "count=0                                        # Initialize a counter for punctuation characters\n",
    "punct=[]                                       # Create an empty list to store punctuation counts for each message\n",
    "for i in range(len(messages)):                 # Iterate through each message in the 'Message' column of the DataFrame\n",
    "    for j in messages['Message'][i]:           # Iterate through each character in the message\n",
    "        if j in string.punctuation:            # Check if the character is a punctuation character\n",
    "            count+=1                 \n",
    "    #print(count)\n",
    "    punct.append(count)                        # Append the count of punctuation characters for this message to the 'punct' list\n",
    "    count=0                                    # Reset the count for the next message\n",
    "    "
   ]
  },
  {
   "cell_type": "code",
   "execution_count": 13,
   "id": "a74c67f8",
   "metadata": {},
   "outputs": [
    {
     "data": {
      "text/plain": [
       "[9,\n",
       " 6,\n",
       " 6,\n",
       " 6,\n",
       " 2,\n",
       " 8,\n",
       " 2,\n",
       " 6,\n",
       " 6,\n",
       " 2,\n",
       " 6,\n",
       " 8,\n",
       " 8,\n",
       " 4,\n",
       " 2,\n",
       " 11,\n",
       " 6,\n",
       " 5,\n",
       " 1,\n",
       " 8,\n",
       " 1,\n",
       " 0,\n",
       " 6,\n",
       " 3,\n",
       " 2,\n",
       " 7,\n",
       " 1,\n",
       " 6,\n",
       " 7,\n",
       " 4,\n",
       " 4,\n",
       " 7,\n",
       " 1,\n",
       " 1,\n",
       " 2,\n",
       " 6,\n",
       " 3,\n",
       " 0,\n",
       " 6,\n",
       " 7,\n",
       " 3,\n",
       " 15,\n",
       " 5,\n",
       " 1,\n",
       " 10,\n",
       " 4,\n",
       " 2,\n",
       " 2,\n",
       " 2,\n",
       " 7,\n",
       " 2,\n",
       " 11,\n",
       " 1,\n",
       " 14,\n",
       " 5,\n",
       " 6,\n",
       " 12,\n",
       " 3,\n",
       " 0,\n",
       " 3,\n",
       " 5,\n",
       " 2,\n",
       " 0,\n",
       " 2,\n",
       " 2,\n",
       " 3,\n",
       " 8,\n",
       " 10,\n",
       " 5,\n",
       " 1,\n",
       " 9,\n",
       " 1,\n",
       " 1,\n",
       " 6,\n",
       " 3,\n",
       " 2,\n",
       " 2,\n",
       " 3,\n",
       " 5,\n",
       " 4,\n",
       " 2,\n",
       " 2,\n",
       " 0,\n",
       " 0,\n",
       " 1,\n",
       " 5,\n",
       " 4,\n",
       " 4,\n",
       " 1,\n",
       " 5,\n",
       " 3,\n",
       " 5,\n",
       " 2,\n",
       " 2,\n",
       " 3,\n",
       " 8,\n",
       " 3,\n",
       " 1,\n",
       " 7,\n",
       " 0,\n",
       " 3,\n",
       " 2,\n",
       " 3,\n",
       " 6,\n",
       " 8,\n",
       " 0,\n",
       " 2,\n",
       " 2,\n",
       " 1,\n",
       " 6,\n",
       " 3,\n",
       " 1,\n",
       " 2,\n",
       " 4,\n",
       " 6,\n",
       " 15,\n",
       " 13,\n",
       " 7,\n",
       " 4,\n",
       " 6,\n",
       " 3,\n",
       " 6,\n",
       " 3,\n",
       " 2,\n",
       " 1,\n",
       " 2,\n",
       " 2,\n",
       " 9,\n",
       " 1,\n",
       " 4,\n",
       " 5,\n",
       " 2,\n",
       " 3,\n",
       " 1,\n",
       " 5,\n",
       " 8,\n",
       " 4,\n",
       " 1,\n",
       " 1,\n",
       " 4,\n",
       " 12,\n",
       " 2,\n",
       " 2,\n",
       " 9,\n",
       " 2,\n",
       " 0,\n",
       " 1,\n",
       " 7,\n",
       " 3,\n",
       " 3,\n",
       " 2,\n",
       " 3,\n",
       " 1,\n",
       " 6,\n",
       " 6,\n",
       " 16,\n",
       " 1,\n",
       " 4,\n",
       " 8,\n",
       " 2,\n",
       " 3,\n",
       " 1,\n",
       " 5,\n",
       " 5,\n",
       " 13,\n",
       " 6,\n",
       " 1,\n",
       " 5,\n",
       " 3,\n",
       " 2,\n",
       " 5,\n",
       " 2,\n",
       " 12,\n",
       " 1,\n",
       " 6,\n",
       " 7,\n",
       " 1,\n",
       " 1,\n",
       " 14,\n",
       " 1,\n",
       " 5,\n",
       " 3,\n",
       " 2,\n",
       " 2,\n",
       " 2,\n",
       " 1,\n",
       " 7,\n",
       " 1,\n",
       " 2,\n",
       " 1,\n",
       " 5,\n",
       " 5,\n",
       " 8,\n",
       " 4,\n",
       " 2,\n",
       " 3,\n",
       " 0,\n",
       " 0,\n",
       " 2,\n",
       " 5,\n",
       " 8,\n",
       " 5,\n",
       " 0,\n",
       " 16,\n",
       " 1,\n",
       " 1,\n",
       " 3,\n",
       " 13,\n",
       " 1,\n",
       " 4,\n",
       " 3,\n",
       " 4,\n",
       " 0,\n",
       " 7,\n",
       " 6,\n",
       " 2,\n",
       " 1,\n",
       " 3,\n",
       " 3,\n",
       " 0,\n",
       " 5,\n",
       " 2,\n",
       " 5,\n",
       " 2,\n",
       " 6,\n",
       " 11,\n",
       " 2,\n",
       " 6,\n",
       " 1,\n",
       " 12,\n",
       " 0,\n",
       " 7,\n",
       " 0,\n",
       " 2,\n",
       " 4,\n",
       " 8,\n",
       " 6,\n",
       " 0,\n",
       " 2,\n",
       " 14,\n",
       " 3,\n",
       " 1,\n",
       " 0,\n",
       " 5,\n",
       " 9,\n",
       " 2,\n",
       " 3,\n",
       " 0,\n",
       " 1,\n",
       " 5,\n",
       " 3,\n",
       " 0,\n",
       " 11,\n",
       " 2,\n",
       " 3,\n",
       " 3,\n",
       " 2,\n",
       " 3,\n",
       " 4,\n",
       " 4,\n",
       " 5,\n",
       " 0,\n",
       " 4,\n",
       " 3,\n",
       " 0,\n",
       " 1,\n",
       " 1,\n",
       " 1,\n",
       " 7,\n",
       " 3,\n",
       " 3,\n",
       " 2,\n",
       " 3,\n",
       " 7,\n",
       " 1,\n",
       " 2,\n",
       " 3,\n",
       " 0,\n",
       " 2,\n",
       " 2,\n",
       " 3,\n",
       " 1,\n",
       " 12,\n",
       " 1,\n",
       " 3,\n",
       " 3,\n",
       " 1,\n",
       " 2,\n",
       " 1,\n",
       " 14,\n",
       " 7,\n",
       " 1,\n",
       " 2,\n",
       " 2,\n",
       " 0,\n",
       " 2,\n",
       " 8,\n",
       " 1,\n",
       " 11,\n",
       " 1,\n",
       " 3,\n",
       " 2,\n",
       " 5,\n",
       " 2,\n",
       " 0,\n",
       " 15,\n",
       " 9,\n",
       " 1,\n",
       " 3,\n",
       " 6,\n",
       " 2,\n",
       " 3,\n",
       " 10,\n",
       " 3,\n",
       " 6,\n",
       " 2,\n",
       " 4,\n",
       " 14,\n",
       " 4,\n",
       " 4,\n",
       " 4,\n",
       " 3,\n",
       " 6,\n",
       " 2,\n",
       " 6,\n",
       " 2,\n",
       " 4,\n",
       " 3,\n",
       " 4,\n",
       " 2,\n",
       " 3,\n",
       " 5,\n",
       " 4,\n",
       " 4,\n",
       " 4,\n",
       " 7,\n",
       " 4,\n",
       " 2,\n",
       " 2,\n",
       " 2,\n",
       " 4,\n",
       " 2,\n",
       " 4,\n",
       " 1,\n",
       " 1,\n",
       " 1,\n",
       " 7,\n",
       " 4,\n",
       " 1,\n",
       " 8,\n",
       " 2,\n",
       " 3,\n",
       " 2,\n",
       " 7,\n",
       " 1,\n",
       " 7,\n",
       " 7,\n",
       " 3,\n",
       " 9,\n",
       " 10,\n",
       " 5,\n",
       " 7,\n",
       " 2,\n",
       " 1,\n",
       " 5,\n",
       " 8,\n",
       " 2,\n",
       " 11,\n",
       " 6,\n",
       " 2,\n",
       " 2,\n",
       " 9,\n",
       " 2,\n",
       " 8,\n",
       " 1,\n",
       " 3,\n",
       " 0,\n",
       " 6,\n",
       " 3,\n",
       " 0,\n",
       " 5,\n",
       " 14,\n",
       " 1,\n",
       " 5,\n",
       " 4,\n",
       " 4,\n",
       " 0,\n",
       " 1,\n",
       " 0,\n",
       " 4,\n",
       " 3,\n",
       " 4,\n",
       " 2,\n",
       " 1,\n",
       " 2,\n",
       " 3,\n",
       " 3,\n",
       " 4,\n",
       " 6,\n",
       " 11,\n",
       " 11,\n",
       " 3,\n",
       " 1,\n",
       " 1,\n",
       " 1,\n",
       " 6,\n",
       " 1,\n",
       " 6,\n",
       " 3,\n",
       " 0,\n",
       " 9,\n",
       " 0,\n",
       " 0,\n",
       " 12,\n",
       " 1,\n",
       " 1,\n",
       " 1,\n",
       " 0,\n",
       " 5,\n",
       " 3,\n",
       " 3,\n",
       " 4,\n",
       " 2,\n",
       " 3,\n",
       " 4,\n",
       " 30,\n",
       " 3,\n",
       " 4,\n",
       " 1,\n",
       " 4,\n",
       " 17,\n",
       " 1,\n",
       " 0,\n",
       " 2,\n",
       " 1,\n",
       " 9,\n",
       " 17,\n",
       " 2,\n",
       " 0,\n",
       " 3,\n",
       " 2,\n",
       " 8,\n",
       " 4,\n",
       " 9,\n",
       " 2,\n",
       " 4,\n",
       " 6,\n",
       " 6,\n",
       " 3,\n",
       " 4,\n",
       " 3,\n",
       " 1,\n",
       " 0,\n",
       " 6,\n",
       " 2,\n",
       " 9,\n",
       " 2,\n",
       " 3,\n",
       " 3,\n",
       " 6,\n",
       " 3,\n",
       " 1,\n",
       " 2,\n",
       " 8,\n",
       " 2,\n",
       " 0,\n",
       " 11,\n",
       " 2,\n",
       " 1,\n",
       " 4,\n",
       " 2,\n",
       " 5,\n",
       " 2,\n",
       " 18,\n",
       " 7,\n",
       " 10,\n",
       " 1,\n",
       " 4,\n",
       " 3,\n",
       " 3,\n",
       " 2,\n",
       " 1,\n",
       " 3,\n",
       " 3,\n",
       " 4,\n",
       " 0,\n",
       " 1,\n",
       " 4,\n",
       " 1,\n",
       " 4,\n",
       " 2,\n",
       " 2,\n",
       " 12,\n",
       " 2,\n",
       " 6,\n",
       " 2,\n",
       " 4,\n",
       " 6,\n",
       " 2,\n",
       " 2,\n",
       " 0,\n",
       " 4,\n",
       " 1,\n",
       " 1,\n",
       " 5,\n",
       " 7,\n",
       " 5,\n",
       " 2,\n",
       " 12,\n",
       " 2,\n",
       " 12,\n",
       " 2,\n",
       " 8,\n",
       " 2,\n",
       " 4,\n",
       " 7,\n",
       " 3,\n",
       " 7,\n",
       " 5,\n",
       " 5,\n",
       " 3,\n",
       " 2,\n",
       " 0,\n",
       " 0,\n",
       " 3,\n",
       " 10,\n",
       " 4,\n",
       " 10,\n",
       " 2,\n",
       " 1,\n",
       " 2,\n",
       " 8,\n",
       " 7,\n",
       " 7,\n",
       " 4,\n",
       " 6,\n",
       " 5,\n",
       " 4,\n",
       " 2,\n",
       " 2,\n",
       " 2,\n",
       " 6,\n",
       " 15,\n",
       " 4,\n",
       " 2,\n",
       " 3,\n",
       " 1,\n",
       " 3,\n",
       " 1,\n",
       " 7,\n",
       " 4,\n",
       " 9,\n",
       " 3,\n",
       " 2,\n",
       " 4,\n",
       " 1,\n",
       " 2,\n",
       " 4,\n",
       " 1,\n",
       " 4,\n",
       " 19,\n",
       " 5,\n",
       " 4,\n",
       " 3,\n",
       " 6,\n",
       " 16,\n",
       " 2,\n",
       " 2,\n",
       " 7,\n",
       " 3,\n",
       " 1,\n",
       " 9,\n",
       " 0,\n",
       " 1,\n",
       " 1,\n",
       " 3,\n",
       " 6,\n",
       " 5,\n",
       " 2,\n",
       " 2,\n",
       " 5,\n",
       " 3,\n",
       " 0,\n",
       " 0,\n",
       " 3,\n",
       " 4,\n",
       " 1,\n",
       " 12,\n",
       " 0,\n",
       " 0,\n",
       " 2,\n",
       " 11,\n",
       " 7,\n",
       " 9,\n",
       " 1,\n",
       " 9,\n",
       " 2,\n",
       " 0,\n",
       " 2,\n",
       " 3,\n",
       " 3,\n",
       " 8,\n",
       " 4,\n",
       " 1,\n",
       " 1,\n",
       " 3,\n",
       " 0,\n",
       " 8,\n",
       " 0,\n",
       " 3,\n",
       " 4,\n",
       " 2,\n",
       " 9,\n",
       " 0,\n",
       " 1,\n",
       " 3,\n",
       " 4,\n",
       " 4,\n",
       " 2,\n",
       " 6,\n",
       " 3,\n",
       " 5,\n",
       " 5,\n",
       " 1,\n",
       " 4,\n",
       " 3,\n",
       " 2,\n",
       " 1,\n",
       " 2,\n",
       " 2,\n",
       " 2,\n",
       " 1,\n",
       " 1,\n",
       " 1,\n",
       " 2,\n",
       " 13,\n",
       " 3,\n",
       " 3,\n",
       " 4,\n",
       " 2,\n",
       " 1,\n",
       " 3,\n",
       " 7,\n",
       " 0,\n",
       " 3,\n",
       " 3,\n",
       " 8,\n",
       " 2,\n",
       " 9,\n",
       " 2,\n",
       " 11,\n",
       " 4,\n",
       " 6,\n",
       " 3,\n",
       " 1,\n",
       " 0,\n",
       " 1,\n",
       " 4,\n",
       " 0,\n",
       " 3,\n",
       " 0,\n",
       " 11,\n",
       " 2,\n",
       " 6,\n",
       " 9,\n",
       " 3,\n",
       " 4,\n",
       " 1,\n",
       " 6,\n",
       " 1,\n",
       " 1,\n",
       " 2,\n",
       " 10,\n",
       " 3,\n",
       " 7,\n",
       " 8,\n",
       " 3,\n",
       " 4,\n",
       " 8,\n",
       " 1,\n",
       " 6,\n",
       " 4,\n",
       " 2,\n",
       " 1,\n",
       " 9,\n",
       " 2,\n",
       " 3,\n",
       " 4,\n",
       " 6,\n",
       " 2,\n",
       " 3,\n",
       " 1,\n",
       " 8,\n",
       " 3,\n",
       " 2,\n",
       " 1,\n",
       " 2,\n",
       " 3,\n",
       " 1,\n",
       " 3,\n",
       " 4,\n",
       " 1,\n",
       " 2,\n",
       " 0,\n",
       " 6,\n",
       " 7,\n",
       " 2,\n",
       " 0,\n",
       " 6,\n",
       " 6,\n",
       " 6,\n",
       " 23,\n",
       " 0,\n",
       " 1,\n",
       " 3,\n",
       " 2,\n",
       " 1,\n",
       " 7,\n",
       " 9,\n",
       " 2,\n",
       " 4,\n",
       " 1,\n",
       " 4,\n",
       " 1,\n",
       " 0,\n",
       " 10,\n",
       " 5,\n",
       " 13,\n",
       " 1,\n",
       " 2,\n",
       " 1,\n",
       " 4,\n",
       " 3,\n",
       " 2,\n",
       " 4,\n",
       " 3,\n",
       " 0,\n",
       " 2,\n",
       " 9,\n",
       " 1,\n",
       " 7,\n",
       " 2,\n",
       " 4,\n",
       " 7,\n",
       " 2,\n",
       " 2,\n",
       " 2,\n",
       " 5,\n",
       " 1,\n",
       " 2,\n",
       " 1,\n",
       " 3,\n",
       " 1,\n",
       " 0,\n",
       " 0,\n",
       " 6,\n",
       " 1,\n",
       " 2,\n",
       " 5,\n",
       " 0,\n",
       " 4,\n",
       " 5,\n",
       " 6,\n",
       " 5,\n",
       " 12,\n",
       " 4,\n",
       " 5,\n",
       " 10,\n",
       " 2,\n",
       " 1,\n",
       " 6,\n",
       " 1,\n",
       " 5,\n",
       " 1,\n",
       " 6,\n",
       " 2,\n",
       " 1,\n",
       " 2,\n",
       " 2,\n",
       " 3,\n",
       " 0,\n",
       " 12,\n",
       " 11,\n",
       " 1,\n",
       " 2,\n",
       " 1,\n",
       " 3,\n",
       " 3,\n",
       " 5,\n",
       " 6,\n",
       " 0,\n",
       " 4,\n",
       " 3,\n",
       " 11,\n",
       " 3,\n",
       " 6,\n",
       " 2,\n",
       " 8,\n",
       " 0,\n",
       " 1,\n",
       " 5,\n",
       " 9,\n",
       " 7,\n",
       " 7,\n",
       " 4,\n",
       " 2,\n",
       " 0,\n",
       " 2,\n",
       " 2,\n",
       " 0,\n",
       " 4,\n",
       " 10,\n",
       " 4,\n",
       " 3,\n",
       " 1,\n",
       " 5,\n",
       " 6,\n",
       " 4,\n",
       " 0,\n",
       " 0,\n",
       " 6,\n",
       " 9,\n",
       " 0,\n",
       " 10,\n",
       " 5,\n",
       " 1,\n",
       " 10,\n",
       " 2,\n",
       " 2,\n",
       " 6,\n",
       " 3,\n",
       " 6,\n",
       " 1,\n",
       " 13,\n",
       " 8,\n",
       " 2,\n",
       " 14,\n",
       " 0,\n",
       " 13,\n",
       " 0,\n",
       " 7,\n",
       " 0,\n",
       " 3,\n",
       " 3,\n",
       " 6,\n",
       " 4,\n",
       " 10,\n",
       " 3,\n",
       " 8,\n",
       " 4,\n",
       " 10,\n",
       " 2,\n",
       " 5,\n",
       " 1,\n",
       " 3,\n",
       " 5,\n",
       " 4,\n",
       " 1,\n",
       " 7,\n",
       " 1,\n",
       " 0,\n",
       " 2,\n",
       " 0,\n",
       " 4,\n",
       " 1,\n",
       " 0,\n",
       " 4,\n",
       " 2,\n",
       " 9,\n",
       " 4,\n",
       " 4,\n",
       " 2,\n",
       " 8,\n",
       " 1,\n",
       " 3,\n",
       " 19,\n",
       " 7,\n",
       " 1,\n",
       " 5,\n",
       " 3,\n",
       " 5,\n",
       " 9,\n",
       " 9,\n",
       " 5,\n",
       " 0,\n",
       " 1,\n",
       " 1,\n",
       " 2,\n",
       " 5,\n",
       " 0,\n",
       " 1,\n",
       " 1,\n",
       " 4,\n",
       " 7,\n",
       " 5,\n",
       " 7,\n",
       " 8,\n",
       " 1,\n",
       " 7,\n",
       " 4,\n",
       " 8,\n",
       " 2,\n",
       " 2,\n",
       " 2,\n",
       " 4,\n",
       " 2,\n",
       " 2,\n",
       " 6,\n",
       " 2,\n",
       " 0,\n",
       " 11,\n",
       " 4,\n",
       " 1,\n",
       " 11,\n",
       " 2,\n",
       " 2,\n",
       " 0,\n",
       " 1,\n",
       " 11,\n",
       " 2,\n",
       " 1,\n",
       " 0,\n",
       " 2,\n",
       " 2,\n",
       " 5,\n",
       " 4,\n",
       " 8,\n",
       " 5,\n",
       " 4,\n",
       " 1,\n",
       " 6,\n",
       " 8,\n",
       " 1,\n",
       " 0,\n",
       " 2,\n",
       " 5,\n",
       " 3,\n",
       " 4,\n",
       " 4,\n",
       " 6,\n",
       " 4,\n",
       " 6,\n",
       " 2,\n",
       " 5,\n",
       " 1,\n",
       " 4,\n",
       " 4,\n",
       " 8,\n",
       " 4,\n",
       " 0,\n",
       " 1,\n",
       " 2,\n",
       " 6,\n",
       " 9,\n",
       " 1,\n",
       " 0,\n",
       " 13,\n",
       " 7,\n",
       " 0,\n",
       " 4,\n",
       " 1,\n",
       " 2,\n",
       " 5,\n",
       " 8,\n",
       " 3,\n",
       " 0,\n",
       " 6,\n",
       " 3,\n",
       " 9,\n",
       " 1,\n",
       " 3,\n",
       " 4,\n",
       " 1,\n",
       " 1,\n",
       " 1,\n",
       " 3,\n",
       " 1,\n",
       " 0,\n",
       " 2,\n",
       " 8,\n",
       " 2,\n",
       " 2,\n",
       " 2,\n",
       " 7,\n",
       " 1,\n",
       " 0,\n",
       " 6,\n",
       " 9,\n",
       " 13,\n",
       " 12,\n",
       " 3,\n",
       " 0,\n",
       " 4,\n",
       " 9,\n",
       " 11,\n",
       " 4,\n",
       " 7,\n",
       " 3,\n",
       " 5,\n",
       " 2,\n",
       " ...]"
      ]
     },
     "execution_count": 13,
     "metadata": {},
     "output_type": "execute_result"
    }
   ],
   "source": [
    "punct"
   ]
  },
  {
   "cell_type": "code",
   "execution_count": 14,
   "id": "cb73986b",
   "metadata": {},
   "outputs": [],
   "source": [
    "messages[\"Punctuation\"]=punct"
   ]
  },
  {
   "cell_type": "markdown",
   "id": "7f811c87",
   "metadata": {},
   "source": [
    "# Normalization"
   ]
  },
  {
   "cell_type": "code",
   "execution_count": 15,
   "id": "81ca0b99",
   "metadata": {},
   "outputs": [],
   "source": [
    "#Regex\n",
    "import re\n",
    "\n",
    "#Stopwords\n",
    "from nltk.corpus import stopwords\n",
    "\n",
    "#Lemmatization\n",
    "from nltk.stem import WordNetLemmatizer\n",
    "#Creating object for Lemmatizer\n",
    "lemmatizer = WordNetLemmatizer()"
   ]
  },
  {
   "cell_type": "code",
   "execution_count": 16,
   "id": "a8e7a46e",
   "metadata": {},
   "outputs": [],
   "source": [
    "#Removal of extra characters and stop words and lemmatization\n",
    "corpus = []\n",
    "\n",
    "#Skipping the 0th index (it's of Label)\n",
    "for i in range(0,len(messages)):\n",
    "    words = re.sub('[^a-zA-Z]',' ',messages['Message'][i])\n",
    "    words = words.lower()\n",
    "    #Splits into list of words \n",
    "    words = words.split()\n",
    "    \n",
    "    #Lemmatizing the word and removing the stopwords\n",
    "    words = [lemmatizer.lemmatize(word) for word in words if word not in set(stopwords.words('english'))]\n",
    "    \n",
    "    #Again join words to form sentences\n",
    "    words = ' '.join(words)\n",
    "    \n",
    "    corpus.append(words)"
   ]
  },
  {
   "cell_type": "code",
   "execution_count": 17,
   "id": "241f3ba2",
   "metadata": {},
   "outputs": [
    {
     "data": {
      "text/plain": [
       "'go jurong point crazy available bugis n great world la e buffet cine got amore wat'"
      ]
     },
     "execution_count": 17,
     "metadata": {},
     "output_type": "execute_result"
    }
   ],
   "source": [
    "#What's in Corpus\n",
    "corpus[0]"
   ]
  },
  {
   "cell_type": "code",
   "execution_count": 18,
   "id": "b00bfc14",
   "metadata": {},
   "outputs": [],
   "source": [
    "messages['Message'] = corpus"
   ]
  },
  {
   "cell_type": "code",
   "execution_count": 19,
   "id": "d334559f",
   "metadata": {},
   "outputs": [
    {
     "data": {
      "text/html": [
       "<div>\n",
       "<style scoped>\n",
       "    .dataframe tbody tr th:only-of-type {\n",
       "        vertical-align: middle;\n",
       "    }\n",
       "\n",
       "    .dataframe tbody tr th {\n",
       "        vertical-align: top;\n",
       "    }\n",
       "\n",
       "    .dataframe thead th {\n",
       "        text-align: right;\n",
       "    }\n",
       "</style>\n",
       "<table border=\"1\" class=\"dataframe\">\n",
       "  <thead>\n",
       "    <tr style=\"text-align: right;\">\n",
       "      <th></th>\n",
       "      <th>Label</th>\n",
       "      <th>Message</th>\n",
       "      <th>Length</th>\n",
       "      <th>Punctuation</th>\n",
       "    </tr>\n",
       "  </thead>\n",
       "  <tbody>\n",
       "    <tr>\n",
       "      <th>0</th>\n",
       "      <td>ham</td>\n",
       "      <td>go jurong point crazy available bugis n great ...</td>\n",
       "      <td>111</td>\n",
       "      <td>9</td>\n",
       "    </tr>\n",
       "    <tr>\n",
       "      <th>1</th>\n",
       "      <td>ham</td>\n",
       "      <td>ok lar joking wif u oni</td>\n",
       "      <td>29</td>\n",
       "      <td>6</td>\n",
       "    </tr>\n",
       "    <tr>\n",
       "      <th>2</th>\n",
       "      <td>spam</td>\n",
       "      <td>free entry wkly comp win fa cup final tkts st ...</td>\n",
       "      <td>155</td>\n",
       "      <td>6</td>\n",
       "    </tr>\n",
       "    <tr>\n",
       "      <th>3</th>\n",
       "      <td>ham</td>\n",
       "      <td>u dun say early hor u c already say</td>\n",
       "      <td>49</td>\n",
       "      <td>6</td>\n",
       "    </tr>\n",
       "    <tr>\n",
       "      <th>4</th>\n",
       "      <td>ham</td>\n",
       "      <td>nah think go usf life around though</td>\n",
       "      <td>61</td>\n",
       "      <td>2</td>\n",
       "    </tr>\n",
       "  </tbody>\n",
       "</table>\n",
       "</div>"
      ],
      "text/plain": [
       "  Label                                            Message  Length  \\\n",
       "0   ham  go jurong point crazy available bugis n great ...     111   \n",
       "1   ham                            ok lar joking wif u oni      29   \n",
       "2  spam  free entry wkly comp win fa cup final tkts st ...     155   \n",
       "3   ham                u dun say early hor u c already say      49   \n",
       "4   ham                nah think go usf life around though      61   \n",
       "\n",
       "   Punctuation  \n",
       "0            9  \n",
       "1            6  \n",
       "2            6  \n",
       "3            6  \n",
       "4            2  "
      ]
     },
     "execution_count": 19,
     "metadata": {},
     "output_type": "execute_result"
    }
   ],
   "source": [
    "messages.head()"
   ]
  },
  {
   "cell_type": "code",
   "execution_count": 20,
   "id": "88dd7eb7",
   "metadata": {},
   "outputs": [],
   "source": [
    "spam_messages = messages[messages['Label'] == 'spam']\n",
    "ham_messages = messages[messages['Label'] == 'ham']"
   ]
  },
  {
   "cell_type": "code",
   "execution_count": 21,
   "id": "0c075cb2",
   "metadata": {},
   "outputs": [
    {
     "data": {
      "text/html": [
       "<div>\n",
       "<style scoped>\n",
       "    .dataframe tbody tr th:only-of-type {\n",
       "        vertical-align: middle;\n",
       "    }\n",
       "\n",
       "    .dataframe tbody tr th {\n",
       "        vertical-align: top;\n",
       "    }\n",
       "\n",
       "    .dataframe thead th {\n",
       "        text-align: right;\n",
       "    }\n",
       "</style>\n",
       "<table border=\"1\" class=\"dataframe\">\n",
       "  <thead>\n",
       "    <tr style=\"text-align: right;\">\n",
       "      <th></th>\n",
       "      <th>Label</th>\n",
       "      <th>Message</th>\n",
       "      <th>Length</th>\n",
       "      <th>Punctuation</th>\n",
       "    </tr>\n",
       "  </thead>\n",
       "  <tbody>\n",
       "    <tr>\n",
       "      <th>2</th>\n",
       "      <td>spam</td>\n",
       "      <td>free entry wkly comp win fa cup final tkts st ...</td>\n",
       "      <td>155</td>\n",
       "      <td>6</td>\n",
       "    </tr>\n",
       "    <tr>\n",
       "      <th>5</th>\n",
       "      <td>spam</td>\n",
       "      <td>freemsg hey darling week word back like fun st...</td>\n",
       "      <td>147</td>\n",
       "      <td>8</td>\n",
       "    </tr>\n",
       "    <tr>\n",
       "      <th>8</th>\n",
       "      <td>spam</td>\n",
       "      <td>winner valued network customer selected receiv...</td>\n",
       "      <td>157</td>\n",
       "      <td>6</td>\n",
       "    </tr>\n",
       "    <tr>\n",
       "      <th>9</th>\n",
       "      <td>spam</td>\n",
       "      <td>mobile month u r entitled update latest colour...</td>\n",
       "      <td>154</td>\n",
       "      <td>2</td>\n",
       "    </tr>\n",
       "    <tr>\n",
       "      <th>11</th>\n",
       "      <td>spam</td>\n",
       "      <td>six chance win cash pound txt csh send cost p ...</td>\n",
       "      <td>136</td>\n",
       "      <td>8</td>\n",
       "    </tr>\n",
       "  </tbody>\n",
       "</table>\n",
       "</div>"
      ],
      "text/plain": [
       "   Label                                            Message  Length  \\\n",
       "2   spam  free entry wkly comp win fa cup final tkts st ...     155   \n",
       "5   spam  freemsg hey darling week word back like fun st...     147   \n",
       "8   spam  winner valued network customer selected receiv...     157   \n",
       "9   spam  mobile month u r entitled update latest colour...     154   \n",
       "11  spam  six chance win cash pound txt csh send cost p ...     136   \n",
       "\n",
       "    Punctuation  \n",
       "2             6  \n",
       "5             8  \n",
       "8             6  \n",
       "9             2  \n",
       "11            8  "
      ]
     },
     "execution_count": 21,
     "metadata": {},
     "output_type": "execute_result"
    }
   ],
   "source": [
    "spam_messages.head()"
   ]
  },
  {
   "cell_type": "code",
   "execution_count": 22,
   "id": "34549584",
   "metadata": {},
   "outputs": [
    {
     "data": {
      "text/html": [
       "<div>\n",
       "<style scoped>\n",
       "    .dataframe tbody tr th:only-of-type {\n",
       "        vertical-align: middle;\n",
       "    }\n",
       "\n",
       "    .dataframe tbody tr th {\n",
       "        vertical-align: top;\n",
       "    }\n",
       "\n",
       "    .dataframe thead th {\n",
       "        text-align: right;\n",
       "    }\n",
       "</style>\n",
       "<table border=\"1\" class=\"dataframe\">\n",
       "  <thead>\n",
       "    <tr style=\"text-align: right;\">\n",
       "      <th></th>\n",
       "      <th>Label</th>\n",
       "      <th>Message</th>\n",
       "      <th>Length</th>\n",
       "      <th>Punctuation</th>\n",
       "    </tr>\n",
       "  </thead>\n",
       "  <tbody>\n",
       "    <tr>\n",
       "      <th>0</th>\n",
       "      <td>ham</td>\n",
       "      <td>go jurong point crazy available bugis n great ...</td>\n",
       "      <td>111</td>\n",
       "      <td>9</td>\n",
       "    </tr>\n",
       "    <tr>\n",
       "      <th>1</th>\n",
       "      <td>ham</td>\n",
       "      <td>ok lar joking wif u oni</td>\n",
       "      <td>29</td>\n",
       "      <td>6</td>\n",
       "    </tr>\n",
       "    <tr>\n",
       "      <th>3</th>\n",
       "      <td>ham</td>\n",
       "      <td>u dun say early hor u c already say</td>\n",
       "      <td>49</td>\n",
       "      <td>6</td>\n",
       "    </tr>\n",
       "    <tr>\n",
       "      <th>4</th>\n",
       "      <td>ham</td>\n",
       "      <td>nah think go usf life around though</td>\n",
       "      <td>61</td>\n",
       "      <td>2</td>\n",
       "    </tr>\n",
       "    <tr>\n",
       "      <th>6</th>\n",
       "      <td>ham</td>\n",
       "      <td>even brother like speak treat like aid patent</td>\n",
       "      <td>77</td>\n",
       "      <td>2</td>\n",
       "    </tr>\n",
       "  </tbody>\n",
       "</table>\n",
       "</div>"
      ],
      "text/plain": [
       "  Label                                            Message  Length  \\\n",
       "0   ham  go jurong point crazy available bugis n great ...     111   \n",
       "1   ham                            ok lar joking wif u oni      29   \n",
       "3   ham                u dun say early hor u c already say      49   \n",
       "4   ham                nah think go usf life around though      61   \n",
       "6   ham      even brother like speak treat like aid patent      77   \n",
       "\n",
       "   Punctuation  \n",
       "0            9  \n",
       "1            6  \n",
       "3            6  \n",
       "4            2  \n",
       "6            2  "
      ]
     },
     "execution_count": 22,
     "metadata": {},
     "output_type": "execute_result"
    }
   ],
   "source": [
    "ham_messages.head()"
   ]
  },
  {
   "cell_type": "markdown",
   "id": "6c8e0638",
   "metadata": {},
   "source": [
    "# Training and evaluating a model"
   ]
  },
  {
   "cell_type": "code",
   "execution_count": 23,
   "id": "c9ca115e",
   "metadata": {},
   "outputs": [],
   "source": [
    "X = messages['Message']"
   ]
  },
  {
   "cell_type": "code",
   "execution_count": 24,
   "id": "e55fd271",
   "metadata": {},
   "outputs": [
    {
     "data": {
      "text/plain": [
       "0    go jurong point crazy available bugis n great ...\n",
       "1                              ok lar joking wif u oni\n",
       "2    free entry wkly comp win fa cup final tkts st ...\n",
       "3                  u dun say early hor u c already say\n",
       "4                  nah think go usf life around though\n",
       "Name: Message, dtype: object"
      ]
     },
     "execution_count": 24,
     "metadata": {},
     "output_type": "execute_result"
    }
   ],
   "source": [
    "X.head()"
   ]
  },
  {
   "cell_type": "code",
   "execution_count": 25,
   "id": "1f04e07b",
   "metadata": {},
   "outputs": [],
   "source": [
    "y = messages['Label']"
   ]
  },
  {
   "cell_type": "code",
   "execution_count": 26,
   "id": "c4de20df",
   "metadata": {},
   "outputs": [
    {
     "data": {
      "text/plain": [
       "0     ham\n",
       "1     ham\n",
       "2    spam\n",
       "3     ham\n",
       "4     ham\n",
       "Name: Label, dtype: object"
      ]
     },
     "execution_count": 26,
     "metadata": {},
     "output_type": "execute_result"
    }
   ],
   "source": [
    "y.head()"
   ]
  },
  {
   "cell_type": "code",
   "execution_count": 27,
   "id": "a7e7efe8",
   "metadata": {},
   "outputs": [],
   "source": [
    "from sklearn.model_selection import train_test_split"
   ]
  },
  {
   "cell_type": "code",
   "execution_count": 28,
   "id": "ba257ba1",
   "metadata": {},
   "outputs": [],
   "source": [
    "X_train , X_test , y_train , y_test = train_test_split(X , y, test_size = 0.33, random_state = 42)"
   ]
  },
  {
   "cell_type": "code",
   "execution_count": 29,
   "id": "59d43d7f",
   "metadata": {},
   "outputs": [
    {
     "data": {
      "text/plain": [
       "4941                            go home liao ask dad pick\n",
       "2191    ooh got gonna start belly dancing moseley wed ...\n",
       "4954    lost pound since doc visit last week woot woot...\n",
       "3837                                       come n pick ar\n",
       "4655                                       hope great day\n",
       "Name: Message, dtype: object"
      ]
     },
     "execution_count": 29,
     "metadata": {},
     "output_type": "execute_result"
    }
   ],
   "source": [
    "X_train.head()"
   ]
  },
  {
   "cell_type": "markdown",
   "id": "3039523c",
   "metadata": {},
   "source": [
    "# Feature extraction"
   ]
  },
  {
   "cell_type": "code",
   "execution_count": 30,
   "id": "d21f88ec",
   "metadata": {},
   "outputs": [],
   "source": [
    "from sklearn.feature_extraction.text import CountVectorizer"
   ]
  },
  {
   "cell_type": "code",
   "execution_count": 31,
   "id": "5e453e32",
   "metadata": {},
   "outputs": [],
   "source": [
    "count_vect=CountVectorizer()"
   ]
  },
  {
   "cell_type": "code",
   "execution_count": 32,
   "id": "84e21823",
   "metadata": {},
   "outputs": [],
   "source": [
    "#transform the training text data 'X_train' into a matrix of word counts and convert it to a dense array representation.\n",
    "X_train_count_vect=count_vect.fit_transform(X_train).toarray()"
   ]
  },
  {
   "cell_type": "code",
   "execution_count": 33,
   "id": "730f047c",
   "metadata": {},
   "outputs": [
    {
     "data": {
      "text/plain": [
       "array([[0, 0, 0, ..., 0, 0, 0],\n",
       "       [0, 0, 0, ..., 0, 0, 0],\n",
       "       [0, 0, 0, ..., 0, 0, 0],\n",
       "       ...,\n",
       "       [0, 0, 0, ..., 0, 0, 0],\n",
       "       [0, 0, 0, ..., 0, 0, 0],\n",
       "       [0, 0, 0, ..., 0, 0, 0]], dtype=int64)"
      ]
     },
     "execution_count": 33,
     "metadata": {},
     "output_type": "execute_result"
    }
   ],
   "source": [
    "X_train_count_vect"
   ]
  },
  {
   "cell_type": "code",
   "execution_count": 34,
   "id": "0129531a",
   "metadata": {},
   "outputs": [
    {
     "data": {
      "text/plain": [
       "(3741, 5803)"
      ]
     },
     "execution_count": 34,
     "metadata": {},
     "output_type": "execute_result"
    }
   ],
   "source": [
    "X_train_count_vect.shape"
   ]
  },
  {
   "cell_type": "code",
   "execution_count": 35,
   "id": "90a11c4f",
   "metadata": {},
   "outputs": [],
   "source": [
    "from sklearn.feature_extraction.text import TfidfVectorizer"
   ]
  },
  {
   "cell_type": "code",
   "execution_count": 36,
   "id": "f0ad949e",
   "metadata": {},
   "outputs": [],
   "source": [
    "tfidf=TfidfVectorizer()"
   ]
  },
  {
   "cell_type": "code",
   "execution_count": 37,
   "id": "8ce9fb09",
   "metadata": {},
   "outputs": [],
   "source": [
    "X_train_tfidf_vect=count_vect.fit_transform(X_train).toarray()"
   ]
  },
  {
   "cell_type": "code",
   "execution_count": 38,
   "id": "e523c0e0",
   "metadata": {},
   "outputs": [
    {
     "data": {
      "text/plain": [
       "array([[0, 0, 0, ..., 0, 0, 0],\n",
       "       [0, 0, 0, ..., 0, 0, 0],\n",
       "       [0, 0, 0, ..., 0, 0, 0],\n",
       "       ...,\n",
       "       [0, 0, 0, ..., 0, 0, 0],\n",
       "       [0, 0, 0, ..., 0, 0, 0],\n",
       "       [0, 0, 0, ..., 0, 0, 0]], dtype=int64)"
      ]
     },
     "execution_count": 38,
     "metadata": {},
     "output_type": "execute_result"
    }
   ],
   "source": [
    "X_train_tfidf_vect"
   ]
  },
  {
   "cell_type": "code",
   "execution_count": 39,
   "id": "8dd95158",
   "metadata": {},
   "outputs": [
    {
     "data": {
      "text/plain": [
       "(3741, 5803)"
      ]
     },
     "execution_count": 39,
     "metadata": {},
     "output_type": "execute_result"
    }
   ],
   "source": [
    "X_train_tfidf_vect.shape"
   ]
  },
  {
   "cell_type": "code",
   "execution_count": 40,
   "id": "7a88f0a9",
   "metadata": {},
   "outputs": [],
   "source": [
    "from sklearn.naive_bayes import MultinomialNB   #for text classification\n",
    "from sklearn.pipeline import Pipeline"
   ]
  },
  {
   "cell_type": "code",
   "execution_count": 41,
   "id": "03a9c235",
   "metadata": {},
   "outputs": [],
   "source": [
    "# Fit the pipeline (includes both text vectorization and model training)\n",
    "text_mnb=Pipeline([('tfidf',TfidfVectorizer()),('mnb',MultinomialNB())]) "
   ]
  },
  {
   "cell_type": "code",
   "execution_count": 42,
   "id": "d4e368cf",
   "metadata": {},
   "outputs": [
    {
     "data": {
      "text/plain": [
       "Pipeline(steps=[('tfidf', TfidfVectorizer()), ('mnb', MultinomialNB())])"
      ]
     },
     "execution_count": 42,
     "metadata": {},
     "output_type": "execute_result"
    }
   ],
   "source": [
    "#Now u can directly pass the X_train dataset.\n",
    "text_mnb.fit(X_train,y_train)"
   ]
  },
  {
   "cell_type": "code",
   "execution_count": 43,
   "id": "9d9c7d3f",
   "metadata": {},
   "outputs": [
    {
     "data": {
      "text/plain": [
       "3836                 thinking chennai forgot come auction\n",
       "1033                                   happy new year man\n",
       "79                         still looking job much ta earn\n",
       "167     urgent trying contact last weekend draw show p...\n",
       "453                   k k detail want transfer acc enough\n",
       "Name: Message, dtype: object"
      ]
     },
     "execution_count": 43,
     "metadata": {},
     "output_type": "execute_result"
    }
   ],
   "source": [
    "X_test.head()"
   ]
  },
  {
   "cell_type": "code",
   "execution_count": 44,
   "id": "d026919a",
   "metadata": {},
   "outputs": [],
   "source": [
    "y_preds_mnb=text_mnb.predict(X_test)"
   ]
  },
  {
   "cell_type": "code",
   "execution_count": 45,
   "id": "fcab012b",
   "metadata": {},
   "outputs": [
    {
     "data": {
      "text/plain": [
       "array(['ham', 'ham', 'ham', ..., 'ham', 'ham', 'ham'], dtype='<U4')"
      ]
     },
     "execution_count": 45,
     "metadata": {},
     "output_type": "execute_result"
    }
   ],
   "source": [
    "y_preds_mnb"
   ]
  },
  {
   "cell_type": "code",
   "execution_count": 46,
   "id": "9826424e",
   "metadata": {},
   "outputs": [
    {
     "data": {
      "text/plain": [
       "0.97514033680834"
      ]
     },
     "execution_count": 46,
     "metadata": {},
     "output_type": "execute_result"
    }
   ],
   "source": [
    "# Calculate the accuracy score of the 'text_mnb' Multinomial Naive Bayes classifier on the training dataset \n",
    "text_mnb.score(X_train,y_train)"
   ]
  },
  {
   "cell_type": "code",
   "execution_count": 47,
   "id": "209b773a",
   "metadata": {},
   "outputs": [
    {
     "data": {
      "text/plain": [
       "0.9647505422993492"
      ]
     },
     "execution_count": 47,
     "metadata": {},
     "output_type": "execute_result"
    }
   ],
   "source": [
    "# Calculate the accuracy score of the 'text_mnb' Multinomial Naive Bayes classifier on the testing dataset\n",
    "text_mnb.score(X_test,y_test)"
   ]
  },
  {
   "cell_type": "code",
   "execution_count": 48,
   "id": "7b0a006f",
   "metadata": {},
   "outputs": [],
   "source": [
    "from sklearn.metrics import confusion_matrix"
   ]
  },
  {
   "cell_type": "code",
   "execution_count": 49,
   "id": "02b9cd9f",
   "metadata": {},
   "outputs": [
    {
     "name": "stdout",
     "output_type": "stream",
     "text": [
      "[[1582    0]\n",
      " [  65  197]]\n"
     ]
    }
   ],
   "source": [
    "print(confusion_matrix(y_test,y_preds_mnb))"
   ]
  },
  {
   "cell_type": "code",
   "execution_count": 50,
   "id": "19abaf02",
   "metadata": {},
   "outputs": [],
   "source": [
    "from sklearn.metrics import classification_report       #Report performance of a classification model"
   ]
  },
  {
   "cell_type": "code",
   "execution_count": 51,
   "id": "f5bb4c0d",
   "metadata": {},
   "outputs": [
    {
     "name": "stdout",
     "output_type": "stream",
     "text": [
      "              precision    recall  f1-score   support\n",
      "\n",
      "         ham       0.96      1.00      0.98      1582\n",
      "        spam       1.00      0.75      0.86       262\n",
      "\n",
      "    accuracy                           0.96      1844\n",
      "   macro avg       0.98      0.88      0.92      1844\n",
      "weighted avg       0.97      0.96      0.96      1844\n",
      "\n"
     ]
    }
   ],
   "source": [
    "print(classification_report(y_test,y_preds_mnb))"
   ]
  },
  {
   "cell_type": "code",
   "execution_count": 52,
   "id": "2876973e",
   "metadata": {},
   "outputs": [],
   "source": [
    "from sklearn.svm import LinearSVC         #categorize data points into one of two classes e.g., spam vs. non-spam sms"
   ]
  },
  {
   "cell_type": "code",
   "execution_count": 53,
   "id": "5ee821fb",
   "metadata": {},
   "outputs": [],
   "source": [
    "#each tuple takes the name you decide , next you call what you want to occur\n",
    "text_svm=Pipeline([('tfidf',TfidfVectorizer()),('svm',LinearSVC())])"
   ]
  },
  {
   "cell_type": "code",
   "execution_count": 54,
   "id": "d216009d",
   "metadata": {},
   "outputs": [
    {
     "data": {
      "text/plain": [
       "Pipeline(steps=[('tfidf', TfidfVectorizer()), ('svm', LinearSVC())])"
      ]
     },
     "execution_count": 54,
     "metadata": {},
     "output_type": "execute_result"
    }
   ],
   "source": [
    "#Now u can directly pass the X_train dataset.\n",
    "text_svm.fit(X_train,y_train)"
   ]
  },
  {
   "cell_type": "code",
   "execution_count": 55,
   "id": "6cfb2a1d",
   "metadata": {},
   "outputs": [
    {
     "data": {
      "text/plain": [
       "3836                 thinking chennai forgot come auction\n",
       "1033                                   happy new year man\n",
       "79                         still looking job much ta earn\n",
       "167     urgent trying contact last weekend draw show p...\n",
       "453                   k k detail want transfer acc enough\n",
       "Name: Message, dtype: object"
      ]
     },
     "execution_count": 55,
     "metadata": {},
     "output_type": "execute_result"
    }
   ],
   "source": [
    "X_test.head()"
   ]
  },
  {
   "cell_type": "code",
   "execution_count": 56,
   "id": "73189cd1",
   "metadata": {},
   "outputs": [],
   "source": [
    "y_preds_svm=text_svm.predict(X_test)"
   ]
  },
  {
   "cell_type": "code",
   "execution_count": 57,
   "id": "ebff3733",
   "metadata": {},
   "outputs": [
    {
     "data": {
      "text/plain": [
       "array(['ham', 'ham', 'ham', ..., 'ham', 'ham', 'ham'], dtype=object)"
      ]
     },
     "execution_count": 57,
     "metadata": {},
     "output_type": "execute_result"
    }
   ],
   "source": [
    "#Predictions of the test data\n",
    "y_preds_svm"
   ]
  },
  {
   "cell_type": "code",
   "execution_count": 58,
   "id": "4ef8308b",
   "metadata": {},
   "outputs": [
    {
     "data": {
      "text/plain": [
       "99.91980753809142"
      ]
     },
     "execution_count": 58,
     "metadata": {},
     "output_type": "execute_result"
    }
   ],
   "source": [
    "#training score\n",
    "text_svm.score(X_train,y_train)*100"
   ]
  },
  {
   "cell_type": "code",
   "execution_count": 59,
   "id": "9c8909aa",
   "metadata": {},
   "outputs": [
    {
     "data": {
      "text/plain": [
       "0.985357917570499"
      ]
     },
     "execution_count": 59,
     "metadata": {},
     "output_type": "execute_result"
    }
   ],
   "source": [
    "#Testing score\n",
    "text_svm.score(X_test,y_test)"
   ]
  },
  {
   "cell_type": "code",
   "execution_count": 60,
   "id": "55ffa2a5",
   "metadata": {},
   "outputs": [
    {
     "name": "stdout",
     "output_type": "stream",
     "text": [
      "[[1575    7]\n",
      " [  20  242]]\n"
     ]
    }
   ],
   "source": [
    "print(confusion_matrix(y_test,y_preds_svm))"
   ]
  },
  {
   "cell_type": "code",
   "execution_count": 61,
   "id": "a5d9da51",
   "metadata": {},
   "outputs": [
    {
     "name": "stdout",
     "output_type": "stream",
     "text": [
      "              precision    recall  f1-score   support\n",
      "\n",
      "         ham       0.99      1.00      0.99      1582\n",
      "        spam       0.97      0.92      0.95       262\n",
      "\n",
      "    accuracy                           0.99      1844\n",
      "   macro avg       0.98      0.96      0.97      1844\n",
      "weighted avg       0.99      0.99      0.99      1844\n",
      "\n"
     ]
    }
   ],
   "source": [
    "print(classification_report(y_test,y_preds_svm))"
   ]
  },
  {
   "cell_type": "markdown",
   "id": "5562c99c",
   "metadata": {},
   "source": [
    "# Message(Spam or Ham)"
   ]
  },
  {
   "cell_type": "code",
   "execution_count": 62,
   "id": "915b7367",
   "metadata": {},
   "outputs": [],
   "source": [
    "#Message to be checked whether spam or not\n",
    "text = 'Pay $2000 to grab the opportunity'"
   ]
  },
  {
   "cell_type": "code",
   "execution_count": 63,
   "id": "6bf5d85f",
   "metadata": {},
   "outputs": [],
   "source": [
    "def refined_text(text):\n",
    "    #Removal of extra characters and stop words\n",
    "    words = re.sub('[^a-zA-Z]',' ',text)\n",
    "    words = words.lower()\n",
    "    #Splits into list of words \n",
    "    words = words.split()\n",
    "\n",
    "    #Lemmatizing the word and removing the stopwords\n",
    "    words = [lemmatizer.lemmatize(word) for word in words if word not in set(stopwords.words('english'))]\n",
    "\n",
    "    #Again join words to form sentences\n",
    "    words = ' '.join(words)\n",
    "    return words"
   ]
  },
  {
   "cell_type": "code",
   "execution_count": 64,
   "id": "be3bacac",
   "metadata": {},
   "outputs": [],
   "source": [
    "refined_word = refined_text(text)"
   ]
  },
  {
   "cell_type": "code",
   "execution_count": 65,
   "id": "c9d6922f",
   "metadata": {},
   "outputs": [],
   "source": [
    "refined_word = [refined_word]"
   ]
  },
  {
   "cell_type": "code",
   "execution_count": 66,
   "id": "9c0d9ed9",
   "metadata": {},
   "outputs": [
    {
     "data": {
      "text/plain": [
       "['pay grab opportunity']"
      ]
     },
     "execution_count": 66,
     "metadata": {},
     "output_type": "execute_result"
    }
   ],
   "source": [
    "refined_word"
   ]
  },
  {
   "cell_type": "code",
   "execution_count": 67,
   "id": "8b9c9cc9",
   "metadata": {},
   "outputs": [
    {
     "data": {
      "text/plain": [
       "array(['ham'], dtype='<U4')"
      ]
     },
     "execution_count": 67,
     "metadata": {},
     "output_type": "execute_result"
    }
   ],
   "source": [
    "text_mnb.predict(refined_word)"
   ]
  },
  {
   "cell_type": "code",
   "execution_count": 68,
   "id": "c7556e54",
   "metadata": {},
   "outputs": [
    {
     "name": "stdout",
     "output_type": "stream",
     "text": [
      "RELAX! This message is not a Spam\n",
      "Do you want to report it as spam? (yes/no): yes\n",
      "Message reported as spam and added to the dataset.\n"
     ]
    }
   ],
   "source": [
    "for i in text_mnb.predict(refined_word):             # Iterate through predictions made by the 'text_mnb' model \n",
    "    if i=='ham':\n",
    "        print(\"RELAX! This message is not a Spam\")\n",
    "        userinput=input('Do you want to report it as spam? (yes/no): ')   #Prompt the user to report the message as spam\n",
    "        if userinput == 'yes':                                            # If the user wants to report it as spam\n",
    "            with open(\"SMSSpamCollection (1)\", \"a\") as file:              # Append the message to dataset\n",
    "                file.write(f\"\\n{'spam'}\\t{text}\" )\n",
    "            print('Message reported as spam and added to the dataset.')   # Print a confirmation message\n",
    "    else:\n",
    "        print('ALERT!! This message might be spam')"
   ]
  },
  {
   "cell_type": "code",
   "execution_count": null,
   "id": "83f6f7d5",
   "metadata": {},
   "outputs": [],
   "source": []
  },
  {
   "cell_type": "code",
   "execution_count": null,
   "id": "a9a40c0d",
   "metadata": {},
   "outputs": [],
   "source": []
  },
  {
   "cell_type": "code",
   "execution_count": null,
   "id": "b8e56786",
   "metadata": {},
   "outputs": [],
   "source": []
  }
 ],
 "metadata": {
  "kernelspec": {
   "display_name": "Python 3 (ipykernel)",
   "language": "python",
   "name": "python3"
  },
  "language_info": {
   "codemirror_mode": {
    "name": "ipython",
    "version": 3
   },
   "file_extension": ".py",
   "mimetype": "text/x-python",
   "name": "python",
   "nbconvert_exporter": "python",
   "pygments_lexer": "ipython3",
   "version": "3.9.12"
  }
 },
 "nbformat": 4,
 "nbformat_minor": 5
}
